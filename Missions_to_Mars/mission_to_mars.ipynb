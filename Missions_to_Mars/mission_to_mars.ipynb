{
 "cells": [
  {
   "cell_type": "code",
   "execution_count": null,
   "metadata": {},
   "outputs": [],
   "source": [
    "# The object of this homework is to use what we've learned to scrape data from \n",
    "# websites and to replicate this data in our own website.  It is centered around getting \n",
    "# data about Mars, from size data to pictures to recent articles about it\n",
    "\n",
    "# The hw is split into two parts, the first to use beautiful soup, pandas, and splinter to scrape data.\n",
    "# That is this portion here, all of which done in Jupyter Notebook.\n",
    "\n",
    "# With this first part, I'll be pulling the data from the websites \n",
    "# themselves.  Once the data is pulled, certain parts of it will need to be stored as python in order to pass it \n",
    "# on to the next part which will mostly be in python.\n",
    "\n",
    "# Begin by importing necessary modules\n",
    "\n",
    "from splinter import Browser\n",
    "from bs4 import BeautifulSoup\n",
    "from webdriver_manager.chrome import ChromeDriverManager\n",
    "import requests\n",
    "import pandas as pd"
   ]
  },
  {
   "cell_type": "code",
   "execution_count": null,
   "metadata": {},
   "outputs": [],
   "source": [
    "# Use \n",
    "url = 'http://books.toscrape.com/'"
   ]
  },
  {
   "cell_type": "code",
   "execution_count": null,
   "metadata": {},
   "outputs": [],
   "source": [
    "\n",
    "browser.visit(url)"
   ]
  }
 ],
 "metadata": {
  "kernelspec": {
   "display_name": "Python 3",
   "language": "python",
   "name": "python3"
  },
  "language_info": {
   "codemirror_mode": {
    "name": "ipython",
    "version": 3
   },
   "file_extension": ".py",
   "mimetype": "text/x-python",
   "name": "python",
   "nbconvert_exporter": "python",
   "pygments_lexer": "ipython3",
   "version": "3.8.3"
  }
 },
 "nbformat": 4,
 "nbformat_minor": 4
}
